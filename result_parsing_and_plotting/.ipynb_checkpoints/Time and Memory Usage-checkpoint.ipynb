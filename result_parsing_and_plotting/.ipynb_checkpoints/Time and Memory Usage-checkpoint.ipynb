{
 "cells": [
  {
   "cell_type": "markdown",
   "metadata": {},
   "source": [
    "# NOTE that Optitype is fast, but it is also doing less - only typing HLA-I"
   ]
  },
  {
   "cell_type": "code",
   "execution_count": 1,
   "metadata": {},
   "outputs": [],
   "source": [
    "import os\n",
    "from os import walk\n",
    "\n",
    "import pandas as pd\n",
    "import numpy as np\n",
    "import sys\n",
    "import re\n",
    "\n",
    "import matplotlib.pyplot as plt\n",
    "import numpy as np\n",
    "import seaborn as sns\n",
    "\n",
    "%matplotlib inline\n",
    "\n",
    "pd.set_option('display.max_rows', 9000)\n",
    "pd.set_option('display.max_columns', 1500)\n",
    "pd.set_option('max_colwidth', 400)"
   ]
  },
  {
   "cell_type": "code",
   "execution_count": 5,
   "metadata": {},
   "outputs": [],
   "source": [
    "resultpath = 'C:\\\\Users\\\\nikol\\\\OneDrive\\\\DTU\\\\11_semester\\\\output_full_dataset\\\\'\n",
    "\n",
    "#Load performance files:\n",
    "memory_use_gb_dict = dict()\n",
    "cpu_time_min_dict = dict()\n",
    "wall_time_min_dict = dict()\n",
    "\n",
    "\n",
    "for tool in ['kourami', 'hla-la', 'optitype', 'hisatgenotype', 'stc-seq']:\n",
    "    full_filepath =  resultpath + tool\n",
    "    \n",
    "    #Make list of results for each tool:\n",
    "    memory_use_gb_dict[tool] = list()\n",
    "    cpu_time_min_dict[tool] = list()\n",
    "    wall_time_min_dict[tool] = list()\n",
    "    \n",
    "    #Reset list of filenames for each tool\n",
    "    tool_files = list()\n",
    "\n",
    "    for (dirpath, dirnames, filenames) in walk(full_filepath):\n",
    "        tool_files.extend(filenames)\n",
    "    \n",
    "    for file in tool_files:\n",
    "        #Only include logfiles\n",
    "        if file.endswith('.log'):\n",
    "            with open(full_filepath + '\\\\' + file, 'r') as infile:\n",
    "                for line in infile:\n",
    "                    #Grab memory use\n",
    "                    if line.startswith('    resources_used.mem'):\n",
    "                        line_extract = line.split()[-1][:-2]\n",
    "                        \n",
    "                        memory_gb = int(line_extract)/(10**6)\n",
    "                        \n",
    "                        memory_use_gb_dict[tool].append(memory_gb)\n",
    "                    \n",
    "                    #Grab cputime \n",
    "                    if line.startswith('    resources_used.cput'):\n",
    "                        line_extract = line.split()[-1]\n",
    "                        \n",
    "                        time_min = (int(line_extract[-8:-6]) * 60) + int(line_extract[-5:-3]) + (int(line_extract[-2:]) / 60)\n",
    "                        \n",
    "                        cpu_time_min_dict[tool].append(time_min)\n",
    "                    \n",
    "                    #Grab walltime\n",
    "                    if line.startswith('    resources_used.walltime'):\n",
    "                        line_extract = line.split()[-1]\n",
    "                        \n",
    "                        time_min = (int(line_extract[-8:-6]) * 60) + int(line_extract[-5:-3]) + (int(line_extract[-2:]) / 60)\n",
    "                        \n",
    "                        wall_time_min_dict[tool].append(time_min)\n",
    "                        "
   ]
  },
  {
   "cell_type": "code",
   "execution_count": 6,
   "metadata": {},
   "outputs": [],
   "source": [
    "#Convert dicts to dataframes\n",
    "memory_use_gb_df = pd.DataFrame.from_dict(memory_use_gb_dict, orient='index')\n",
    "memory_use_gb_df = memory_use_gb_df.transpose()\n",
    "\n",
    "cpu_time_min_df= pd.DataFrame.from_dict(cpu_time_min_dict, orient='index')\n",
    "cpu_time_min_df = cpu_time_min_df.transpose()\n",
    "\n",
    "wall_time_min_df = pd.DataFrame.from_dict(wall_time_min_dict, orient='index')\n",
    "wall_time_min_df = wall_time_min_df.transpose()"
   ]
  },
  {
   "cell_type": "markdown",
   "metadata": {},
   "source": [
    "# Violinplots"
   ]
  },
  {
   "cell_type": "code",
   "execution_count": 7,
   "metadata": {},
   "outputs": [
    {
     "data": {
      "image/png": "[encoded data removed]",
      "text/plain": [
       "<Figure size 648x432 with 1 Axes>"
      ]
     },
     "metadata": {
      "needs_background": "light"
     },
     "output_type": "display_data"
    }
   ],
   "source": [
    "#Make dataframe wideformat\n",
    "memory_use_wide_df = pd.melt(memory_use_gb_df, var_name='tool', value_name='memory_use_GB')\n",
    "\n",
    "# load data into a dataframe\n",
    "fontsize = 10\n",
    "\n",
    "fig, ax = plt.subplots(figsize=(9,6))\n",
    "# plot violin. 'Scenario' is according to x axis, \n",
    "# 'LMP' is y axis, data is your dataframe. ax - is axes instance\n",
    "sns.violinplot('tool', 'memory_use_GB', data=memory_use_wide_df, ax = ax)\n",
    "\n",
    "plt.yscale('log')\n",
    "plt.ylabel('Memory use in GB (log scale)')\n",
    "plt.xlabel('')\n",
    "ax.yaxis.grid()\n",
    "\n",
    "ax.set_ylim(0.1, max(memory_use_gb_df['hla-la'])+100)\n",
    "\n",
    "ax.set_xticklabels(['Kourami', 'HLA*LA', 'Optitype', 'HISAT-genotype', 'STC-seq'])\n",
    "\n",
    "plt.rcParams.update({'font.size': 14})\n",
    "plt.rc('xtick', labelsize=14)\n",
    "plt.rc('ytick', labelsize=14)\n",
    "\n",
    "\n",
    "plt.title('Memory use of HLA typing algorithms')\n",
    "\n",
    "plt.show()"
   ]
  },
  {
   "cell_type": "code",
   "execution_count": null,
   "metadata": {},
   "outputs": [],
   "source": [
    "#Make dataframe wideformat\n",
    "memory_use_wide_df = pd.melt(cpu_time_min_df, var_name='tool', value_name='memory_use_GB')\n",
    "\n",
    "# load data into a dataframe\n",
    "fontsize = 10\n",
    "\n",
    "fig, ax = plt.subplots(figsize=(9,6))\n",
    "# plot violin. 'Scenario' is according to x axis, \n",
    "# 'LMP' is y axis, data is your dataframe. ax - is axes instance\n",
    "sns.violinplot('tool', 'memory_use_GB', data=memory_use_wide_df, ax = ax)\n",
    "\n",
    "\n",
    "plt.ylabel('CPU time in minutes (log scale)')\n",
    "plt.xlabel('')\n",
    "ax.yaxis.grid()\n",
    "\n",
    "plt.yscale('log')\n",
    "ax.set_ylim(1, max(cpu_time_min_df['hla-la'])+1000)\n",
    "\n",
    "ax.set_xticklabels(['Kourami', 'HLA*LA', 'Optitype', 'HISAT-genotype', 'STC-seq'])\n",
    "\n",
    "\n",
    "plt.rcParams.update({'font.size': 14})\n",
    "plt.rc('xtick', labelsize=14)\n",
    "plt.rc('ytick', labelsize=14)\n",
    "\n",
    "plt.title('CPU time use of HLA typing algorithms')\n",
    "\n",
    "plt.show()"
   ]
  },
  {
   "cell_type": "code",
   "execution_count": null,
   "metadata": {},
   "outputs": [],
   "source": [
    "#Make dataframe wideformat\n",
    "memory_use_wide_df = pd.melt(wall_time_min_df, var_name='tool', value_name='memory_use_GB')\n",
    "\n",
    "# load data into a dataframe\n",
    "fontsize = 10\n",
    "\n",
    "fig, ax = plt.subplots(figsize=(12,6))\n",
    "# plot violin. 'Scenario' is according to x axis, \n",
    "# 'LMP' is y axis, data is your dataframe. ax - is axes instance\n",
    "sns.violinplot('tool', 'memory_use_GB', data=memory_use_wide_df, ax = ax)\n",
    "\n",
    "plt.yscale('log')\n",
    "plt.ylabel('Walltime (min)')\n",
    "plt.xlabel('')\n",
    "ax.yaxis.grid()\n",
    "\n",
    "ax.set_ylim(0.1, max(wall_time_min_df['hla-la'])+1000)\n",
    "\n",
    "plt.show()"
   ]
  },
  {
   "cell_type": "markdown",
   "metadata": {},
   "source": [
    "# Non log violinplots"
   ]
  },
  {
   "cell_type": "code",
   "execution_count": null,
   "metadata": {},
   "outputs": [],
   "source": [
    "#Make dataframe wideformat\n",
    "memory_use_wide_df = pd.melt(memory_use_gb_df, var_name='tool', value_name='memory_use_GB')\n",
    "\n",
    "# load data into a dataframe\n",
    "fontsize = 10\n",
    "\n",
    "fig, ax = plt.subplots(figsize=(9,6))\n",
    "# plot violin. 'Scenario' is according to x axis, \n",
    "# 'LMP' is y axis, data is your dataframe. ax - is axes instance\n",
    "sns.violinplot('tool', 'memory_use_GB', data=memory_use_wide_df, ax = ax)\n",
    "\n",
    "#plt.yscale('log')\n",
    "plt.ylabel('Memory use (GB)')\n",
    "plt.xlabel('')\n",
    "ax.yaxis.grid()\n",
    "\n",
    "ax.set_ylim(0.1, np.mean(memory_use_gb_df['hla-la'])+5)\n",
    "\n",
    "plt.show()"
   ]
  },
  {
   "cell_type": "code",
   "execution_count": null,
   "metadata": {},
   "outputs": [],
   "source": [
    "#Make dataframe wideformat\n",
    "memory_use_wide_df = pd.melt(cpu_time_min_df, var_name='tool', value_name='memory_use_GB')\n",
    "\n",
    "# load data into a dataframe\n",
    "fontsize = 10\n",
    "\n",
    "fig, ax = plt.subplots(figsize=(12,6))\n",
    "# plot violin. 'Scenario' is according to x axis, \n",
    "# 'LMP' is y axis, data is your dataframe. ax - is axes instance\n",
    "sns.violinplot('tool', 'memory_use_GB', data=memory_use_wide_df, ax = ax)\n",
    "\n",
    "\n",
    "plt.ylabel('CPU time (min)')\n",
    "plt.xlabel('')\n",
    "ax.yaxis.grid()\n",
    "\n",
    "#plt.yscale('log')\n",
    "ax.set_ylim(0.1, np.mean(cpu_time_min_df['hla-la'])+10)\n",
    "\n",
    "plt.show()"
   ]
  },
  {
   "cell_type": "code",
   "execution_count": null,
   "metadata": {},
   "outputs": [],
   "source": [
    "#Make dataframe wideformat\n",
    "memory_use_wide_df = pd.melt(wall_time_min_df, var_name='tool', value_name='memory_use_GB')\n",
    "\n",
    "# load data into a dataframe\n",
    "fontsize = 10\n",
    "\n",
    "fig, ax = plt.subplots(figsize=(12,6))\n",
    "# plot violin. 'Scenario' is according to x axis, \n",
    "# 'LMP' is y axis, data is your dataframe. ax - is axes instance\n",
    "sns.violinplot('tool', 'memory_use_GB', data=memory_use_wide_df, ax = ax)\n",
    "\n",
    "#plt.yscale('log')\n",
    "plt.ylabel('Walltime (min)')\n",
    "plt.xlabel('')\n",
    "ax.yaxis.grid()\n",
    "\n",
    "ax.set_ylim(0, np.mean(wall_time_min_df['hla-la']))\n",
    "\n",
    "plt.show()"
   ]
  },
  {
   "cell_type": "markdown",
   "metadata": {},
   "source": [
    "# Boxplots"
   ]
  },
  {
   "cell_type": "code",
   "execution_count": null,
   "metadata": {},
   "outputs": [],
   "source": [
    "fig = plt.figure(figsize =(10, 7)) \n",
    "\n",
    "# Creating axes instance \n",
    "ax = fig.add_axes([0, 0, 1, 1]) \n",
    "ax.set_ylim(0.02, max(memory_use_gb_df['hla-la'])+500)\n",
    "\n",
    "plt.yscale('log')\n",
    "plt.ylabel('Memory use (Gb)')\n",
    "\n",
    "memory_use_gb_df.boxplot()"
   ]
  },
  {
   "cell_type": "code",
   "execution_count": null,
   "metadata": {},
   "outputs": [],
   "source": [
    "fig = plt.figure(figsize =(10, 7)) \n",
    "\n",
    "# Creating axes instance \n",
    "ax = fig.add_axes([0, 0, 1, 1]) \n",
    "ax.set_ylim(0.05, max(cpu_time_min_df['hla-la'])+500)\n",
    "\n",
    "plt.yscale('log')\n",
    "plt.ylabel('CPU time (min)')\n",
    "\n",
    "cpu_time_min_df.boxplot()"
   ]
  },
  {
   "cell_type": "code",
   "execution_count": null,
   "metadata": {
    "scrolled": true
   },
   "outputs": [],
   "source": [
    "fig = plt.figure(figsize =(10, 7)) \n",
    "\n",
    "# Creating axes instance \n",
    "ax = fig.add_axes([0, 0, 1, 1]) \n",
    "ax.set_ylim(0.02, max(wall_time_min_df['hla-la'])+500)\n",
    "\n",
    "plt.yscale('log')\n",
    "plt.ylabel('Walltime (min)')\n",
    "\n",
    "wall_time_min_df.boxplot()"
   ]
  },
  {
   "cell_type": "code",
   "execution_count": null,
   "metadata": {},
   "outputs": [],
   "source": [
    "for df in [memory_use_gb_df, cpu_time_min_df, wall_time_min_df]:\n",
    "\n",
    "    mean_values = df.mean()\n",
    "\n",
    "    std_values = df.std()\n",
    "\n",
    "    plt.bar(range(len(df.columns)), mean_values, \n",
    "            yerr=std_values, align='center', alpha=0.5, color = '#0000FF')\n",
    "\n",
    "    plt.xticks(range(len(df.columns)), df.columns, rotation = 45)\n",
    "    plt.ylabel('memory(gb) / time(min)')\n",
    "    plt.title('Time and Memory use')\n",
    "    plt.show()"
   ]
  },
  {
   "cell_type": "markdown",
   "metadata": {},
   "source": [
    "# Old code"
   ]
  },
  {
   "cell_type": "code",
   "execution_count": null,
   "metadata": {},
   "outputs": [],
   "source": [
    "exon_1 = 'AGA GTC TCC TCA GAC GCC GAG ATG CTG GTC ATG GCG CCC CGA ACC GTC CTC CTG CTG CTC TCG GCG GCC CTG GCC CTG ACC GAG ACC TGG GCC G'"
   ]
  },
  {
   "cell_type": "code",
   "execution_count": null,
   "metadata": {},
   "outputs": [],
   "source": [
    "len(exon_1)"
   ]
  },
  {
   "cell_type": "code",
   "execution_count": null,
   "metadata": {},
   "outputs": [],
   "source": [
    "len('ATG CTGGTCATGGCGCCCCGAACCGTCCTCCTGCTGCTCTCGGCGGCCCTGGCCCTGACCGAGACCTGGGCCG')"
   ]
  },
  {
   "cell_type": "code",
   "execution_count": null,
   "metadata": {},
   "outputs": [],
   "source": [
    "cpu_time_min_dict"
   ]
  },
  {
   "cell_type": "code",
   "execution_count": null,
   "metadata": {},
   "outputs": [],
   "source": [
    "np.sum(cpu_time_min_dict['kourami'])"
   ]
  },
  {
   "cell_type": "code",
   "execution_count": null,
   "metadata": {},
   "outputs": [],
   "source": [
    "total_cpu_time = 0\n",
    "for tool in cpu_time_min_dict:\n",
    "    total_cpu_time += np.sum(cpu_time_min_dict[tool])"
   ]
  },
  {
   "cell_type": "code",
   "execution_count": null,
   "metadata": {},
   "outputs": [],
   "source": [
    "total_cpu_time / 60"
   ]
  },
  {
   "cell_type": "code",
   "execution_count": null,
   "metadata": {},
   "outputs": [],
   "source": [
    "total_cpu_time"
   ]
  },
  {
   "cell_type": "code",
   "execution_count": null,
   "metadata": {},
   "outputs": [],
   "source": []
  }
 ],
 "metadata": {
  "kernelspec": {
   "display_name": "Python 3",
   "language": "python",
   "name": "python3"
  },
  "language_info": {
   "codemirror_mode": {
    "name": "ipython",
    "version": 3
   },
   "file_extension": ".py",
   "mimetype": "text/x-python",
   "name": "python",
   "nbconvert_exporter": "python",
   "pygments_lexer": "ipython3",
   "version": "3.7.3"
  }
 },
 "nbformat": 4,
 "nbformat_minor": 2
}
